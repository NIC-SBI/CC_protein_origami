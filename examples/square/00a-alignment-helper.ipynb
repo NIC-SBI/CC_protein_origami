{
 "cells": [
  {
   "cell_type": "code",
   "execution_count": 1,
   "metadata": {
    "collapsed": false
   },
   "outputs": [
    {
     "name": "stdout",
     "output_type": "stream",
     "text": [
      "-----------------------------\n",
      "----\n",
      "-----------------------------\n",
      "----\n",
      "-----------------------------\n",
      "----\n",
      "-----------------------------\n",
      "----\n",
      "-----------------------------\n",
      "----\n",
      "-----------------------------\n",
      "----\n",
      "-----------------------------\n",
      "----\n",
      "-----------------------------\n"
     ]
    }
   ],
   "source": [
    "import re\n",
    "\n",
    "\n",
    "aln_str = \"\"\"EIQQLEEEISQLEQKNSQLKEKNQQLKYG\n",
    "SGSG\n",
    "EIQSLEEKNSQLKQEISQLEEKNQQLKYG\n",
    "SGSG\n",
    "ENQQLEQKNSQLKQEISQLEQEISQLEYG\n",
    "SGSG\n",
    "ENSQLEEKISQLKQKNSQLKEEIQQLEYG\n",
    "SGSG\n",
    "KISQLKQKIQQLKQENQQLEEENSQLEYG\n",
    "SGSG\n",
    "KISQLKEENQQLEQKIQQLKEENSQLEYG\n",
    "SGSG\n",
    "KNSQLKEENSQLEEKIQQLKEKIQQLKYG\n",
    "SGSG\n",
    "KNSQLKEEIQQLEEENQQLEEKISQLKYG\"\"\"\n",
    "\n",
    "print re.sub(\".\",\"-\",aln_str)"
   ]
  },
  {
   "cell_type": "code",
   "execution_count": null,
   "metadata": {
    "collapsed": true
   },
   "outputs": [],
   "source": []
  }
 ],
 "metadata": {
  "kernelspec": {
   "display_name": "Python 2",
   "language": "python",
   "name": "python2"
  },
  "language_info": {
   "codemirror_mode": {
    "name": "ipython",
    "version": 2
   },
   "file_extension": ".py",
   "mimetype": "text/x-python",
   "name": "python",
   "nbconvert_exporter": "python",
   "pygments_lexer": "ipython2",
   "version": "2.7.8"
  }
 },
 "nbformat": 4,
 "nbformat_minor": 0
}
