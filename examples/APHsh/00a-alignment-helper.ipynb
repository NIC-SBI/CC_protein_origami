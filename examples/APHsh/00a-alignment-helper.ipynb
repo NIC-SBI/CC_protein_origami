{
 "cells": [
  {
   "cell_type": "code",
   "execution_count": 8,
   "metadata": {
    "collapsed": false,
    "scrolled": true
   },
   "outputs": [
    {
     "name": "stdout",
     "output_type": "stream",
     "text": [
      "\n",
      "-\n",
      "-----------------------------\n",
      "--\n",
      "-----------------------------\n",
      "--\n",
      "-----------------------------\n",
      "--\n",
      "-----------------------------\n",
      "--\n",
      "-----------------------------\n",
      "--\n",
      "-------------------------------\n",
      "\n"
     ]
    }
   ],
   "source": [
    "import re\n",
    "from __future__ import division\n",
    "from __future__ import print_function\n",
    "\n",
    "aln_str = \"\"\"\n",
    "M\n",
    "EIQQLEEEIAQLEQKNAALKEKNQALKYG\n",
    "GP\n",
    "ENAALEEKIAQLKQKNAALKEEIQALEYG\n",
    "GP\n",
    "EIQALEEKNAQLKQEIAALEEKNQALKYG\n",
    "GP\n",
    "KIAQLKQKIQALKQENQQLEEENAALEYG\n",
    "GP\n",
    "KNAALKEEIQALEEENQALEEKIAQLKYG\n",
    "GP\n",
    "KIAQLKEENQQLEQKIQALKEENAALEYGLE\n",
    "\"\"\"\n",
    "\n",
    "print (re.sub(\".\",\"-\",aln_str))"
   ]
  },
  {
   "cell_type": "code",
   "execution_count": null,
   "metadata": {
    "collapsed": true
   },
   "outputs": [],
   "source": []
  }
 ],
 "metadata": {
  "kernelspec": {
   "display_name": "Python 3",
   "language": "python",
   "name": "python3"
  },
  "language_info": {
   "codemirror_mode": {
    "name": "ipython",
    "version": 3
   },
   "file_extension": ".py",
   "mimetype": "text/x-python",
   "name": "python",
   "nbconvert_exporter": "python",
   "pygments_lexer": "ipython3",
   "version": "3.4.3"
  }
 },
 "nbformat": 4,
 "nbformat_minor": 0
}
