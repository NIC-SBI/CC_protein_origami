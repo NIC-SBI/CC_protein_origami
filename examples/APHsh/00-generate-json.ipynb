{
 "cells": [
  {
   "cell_type": "code",
   "execution_count": 23,
   "metadata": {
    "collapsed": false
   },
   "outputs": [
    {
     "name": "stdout",
     "output_type": "stream",
     "text": [
      "['ELKQLEE ELQAIEE QLAQLQW KAQARKE KLAQLK \\t\\tAPHshort', 'ELKQLEE ELQAIEE QLAQLQW KAQARKE KLAQLK \\t\\tAPHshort']\n",
      "0\n",
      "0 0 APHshort\n",
      "APHshort\n",
      "1 34\n",
      "35\n"
     ]
    },
    {
     "data": {
      "text/plain": [
       "[{'end': 34,\n",
       "  'id': 1,\n",
       "  'len': 34,\n",
       "  'name': 'APHshort',\n",
       "  'pair_id': 2,\n",
       "  'pair_name': 'APHshort',\n",
       "  'pair_type': 'A',\n",
       "  'pdb_chain': '',\n",
       "  'pdb_template': 'APH.pdb',\n",
       "  'sequence': 'ELKQLEEELQAIEEQLAQLQWKAQARKEKLAQLK',\n",
       "  'start': 1},\n",
       " {'end': 73,\n",
       "  'id': 2,\n",
       "  'len': 34,\n",
       "  'name': 'APHshort',\n",
       "  'pair_id': 1,\n",
       "  'pair_name': 'APHshort',\n",
       "  'pair_type': 'A',\n",
       "  'pdb_chain': '',\n",
       "  'pdb_template': 'APH.pdb',\n",
       "  'sequence': 'ELKQLEEELQAIEEQLAQLQWKAQARKEKLAQLK',\n",
       "  'start': 40}]"
      ]
     },
     "execution_count": 23,
     "metadata": {},
     "output_type": "execute_result"
    }
   ],
   "source": [
    "tet_name = \"APHsh\"\n",
    "entire_sequence =\"ELKQLEEELQAIEEQLAQLQWKAQARKEKLAQLKGKGDGELKQLEEELQAIEEQLAQLQWKAQARKEKLAQLK\"\\\n",
    ".replace(\" \", \"\")\n",
    "segments = \"\"\"\n",
    "ELKQLEE ELQAIEE QLAQLQW KAQARKE KLAQLK \t\tAPHshort\n",
    "GKGDG\n",
    "ELKQLEE ELQAIEE QLAQLQW KAQARKE KLAQLK \t\tAPHshort\n",
    "\"\"\"\n",
    "\n",
    "pairs = [[\"APHshort\",\"APHshort\"]]\n",
    "\n",
    "pair_types = [\"A\"]\n",
    "segments = segments.split('\\n')\n",
    "\n",
    "#ignore the linkers\n",
    "segments = list(filter(lambda s: len(s)>10, segments)) \n",
    "print(segments)\n",
    "# split into seq name pairs\n",
    "for n, seg in enumerate(segments):\n",
    "    spl = seg.split('\\t')\n",
    "    seq = spl[0].replace(\" \",\"\")\n",
    "    name = spl[-1].strip()\n",
    "\n",
    "    seq = seq.replace(\" \",\"\")\n",
    "    \n",
    "    #has a segment allready been found?\n",
    "    pos_in_seq=0\n",
    "    for n1 in range(n):\n",
    "        print(n1,n-1,name)\n",
    "        print(name)\n",
    "        print(segments[n1]['start'],segments[n1]['len'])\n",
    "        if segments[n1]['name']==name:\n",
    "            pos_in_seq=segments[n1]['start']+segments[n1]['len']\n",
    "            \n",
    "    print(pos_in_seq)\n",
    "    start = entire_sequence.find(seq,pos_in_seq)\n",
    "    \n",
    "    #find the pair name\n",
    "    for np, p in enumerate(pairs):\n",
    "        #do we have the rigth pair\n",
    "        if name in p:\n",
    "            #take the remaining pair\n",
    "            pair_name = p[:]\n",
    "            pair_name.remove(name)                        \n",
    "            pair_name=pair_name[0]\n",
    "            pair_type=pair_types[np]\n",
    "            #print pair_name\n",
    "\n",
    "    \n",
    "    \n",
    "    segments[n]={\"id\":n+1, \"name\": name, \n",
    "                 \"sequence\" :seq, \n",
    "                 \"start\" : start+1,\n",
    "                 \"len\" : len(seq),\n",
    "                 \"end\" : start+len(seq),\n",
    "                 \"pair_id\" : -1,\n",
    "                 \"pair_name\": pair_name,\n",
    "                 \"pair_type\": pair_type,\n",
    "                 \"pdb_template\" : \"APH.pdb\",\n",
    "                 \"pdb_chain\" : \"\"\n",
    "                }\n",
    "   \n",
    "#find tha pair IDs\n",
    "for n in range(len(segments)):\n",
    "    for n1 in range(n+1,len(segments)):\n",
    "        if segments[n]['name']==segments[n1]['pair_name']:\n",
    "            segments[n]['pair_id']=segments[n1]['id']      \n",
    "            segments[n1]['pair_id']=segments[n]['id']\n",
    "    \n",
    "\n",
    "segments"
   ]
  },
  {
   "cell_type": "code",
   "execution_count": null,
   "metadata": {
    "collapsed": true
   },
   "outputs": [],
   "source": []
  },
  {
   "cell_type": "code",
   "execution_count": 24,
   "metadata": {
    "collapsed": false
   },
   "outputs": [
    {
     "name": "stdout",
     "output_type": "stream",
     "text": [
      "{\r\n",
      " \"entire_sequence\": \"ELKQLEEELQAIEEQLAQLQWKAQARKEKLAQLKGKGDGELKQLEEELQAIEEQLAQLQWKAQARKEKLAQLK\",\r\n",
      " \"name\": \"APHsh\",\r\n",
      " \"pair_types\": [\r\n",
      "  \"A\"\r\n",
      " ],\r\n",
      " \"pairs\": [\r\n",
      "  [\r\n",
      "   \"APHshort\",\r\n",
      "   \"APHshort\"\r\n",
      "  ]\r\n",
      " ],\r\n",
      " \"segments\": [\r\n",
      "  {\r\n",
      "   \"end\": 34,\r\n",
      "   \"id\": 1,\r\n",
      "   \"len\": 34,\r\n",
      "   \"name\": \"APHshort\",\r\n",
      "   \"pair_id\": 2,\r\n",
      "   \"pair_name\": \"APHshort\",\r\n",
      "   \"pair_type\": \"A\",\r\n",
      "   \"pdb_chain\": \"\",\r\n",
      "   \"pdb_template\": \"APH.pdb\",\r\n",
      "   \"sequence\": \"ELKQLEEELQAIEEQLAQLQWKAQARKEKLAQLK\",\r\n",
      "   \"start\": 1\r\n",
      "  },\r\n",
      "  {\r\n",
      "   \"end\": 73,\r\n",
      "   \"id\": 2,\r\n",
      "   \"len\": 34,\r\n",
      "   \"name\": \"APHshort\",\r\n",
      "   \"pair_id\": 1,\r\n",
      "   \"pair_name\": \"APHshort\",\r\n",
      "   \"pair_type\": \"A\",\r\n",
      "   \"pdb_chain\": \"\",\r\n",
      "   \"pdb_template\": \"APH.pdb\",\r\n",
      "   \"sequence\": \"ELKQLEEELQAIEEQLAQLQWKAQARKEKLAQLK\",\r\n",
      "   \"start\": 40\r\n",
      "  }\r\n",
      " ]\r\n",
      "}"
     ]
    },
    {
     "ename": "NameError",
     "evalue": "name 'cp' is not defined",
     "output_type": "error",
     "traceback": [
      "\u001b[1;31m---------------------------------------------------------------------------\u001b[0m",
      "\u001b[1;31mNameError\u001b[0m                                 Traceback (most recent call last)",
      "\u001b[1;32m<ipython-input-24-4d5f5ebd52e4>\u001b[0m in \u001b[0;36m<module>\u001b[1;34m()\u001b[0m\n\u001b[0;32m      4\u001b[0m     \u001b[0mjson\u001b[0m\u001b[1;33m.\u001b[0m\u001b[0mdump\u001b[0m\u001b[1;33m(\u001b[0m\u001b[1;33m{\u001b[0m\u001b[1;34m\"name\"\u001b[0m\u001b[1;33m:\u001b[0m\u001b[0mtet_name\u001b[0m\u001b[1;33m,\u001b[0m\u001b[1;34m\"entire_sequence\"\u001b[0m\u001b[1;33m:\u001b[0m \u001b[0mentire_sequence\u001b[0m\u001b[1;33m,\u001b[0m \u001b[1;34m\"pairs\"\u001b[0m\u001b[1;33m:\u001b[0m\u001b[0mpairs\u001b[0m\u001b[1;33m,\u001b[0m \u001b[1;34m\"pair_types\"\u001b[0m\u001b[1;33m:\u001b[0m\u001b[0mpair_types\u001b[0m\u001b[1;33m,\u001b[0m \u001b[1;34m\"segments\"\u001b[0m\u001b[1;33m:\u001b[0m\u001b[0msegments\u001b[0m\u001b[1;33m}\u001b[0m\u001b[1;33m,\u001b[0m \u001b[0moutfile\u001b[0m\u001b[1;33m,\u001b[0m \u001b[0mindent\u001b[0m\u001b[1;33m=\u001b[0m\u001b[1;32mTrue\u001b[0m\u001b[1;33m,\u001b[0m \u001b[0msort_keys\u001b[0m\u001b[1;33m=\u001b[0m\u001b[1;32mTrue\u001b[0m\u001b[1;33m)\u001b[0m\u001b[1;33m\u001b[0m\u001b[0m\n\u001b[0;32m      5\u001b[0m \u001b[0mget_ipython\u001b[0m\u001b[1;33m(\u001b[0m\u001b[1;33m)\u001b[0m\u001b[1;33m.\u001b[0m\u001b[0msystem\u001b[0m\u001b[1;33m(\u001b[0m\u001b[1;34m'cat $outname   '\u001b[0m\u001b[1;33m)\u001b[0m\u001b[1;33m\u001b[0m\u001b[0m\n\u001b[1;32m----> 6\u001b[1;33m \u001b[0mcp\u001b[0m\u001b[1;33m\u001b[0m\u001b[0m\n\u001b[0m",
      "\u001b[1;31mNameError\u001b[0m: name 'cp' is not defined"
     ]
    }
   ],
   "source": [
    "import json            \n",
    "outname = tet_name+\".json\"\n",
    "with open(outname, 'w') as outfile:\n",
    "    json.dump({\"name\":tet_name,\"entire_sequence\": entire_sequence, \"pairs\":pairs, \"pair_types\":pair_types, \"segments\":segments}, outfile, indent=True, sort_keys=True)\n",
    "!cat $outname   \n",
    "cp "
   ]
  },
  {
   "cell_type": "code",
   "execution_count": 2,
   "metadata": {
    "collapsed": true
   },
   "outputs": [],
   "source": [
    "import json   \n"
   ]
  },
  {
   "cell_type": "code",
   "execution_count": null,
   "metadata": {
    "collapsed": true
   },
   "outputs": [],
   "source": []
  }
 ],
 "metadata": {
  "kernelspec": {
   "display_name": "Python 3",
   "language": "python",
   "name": "python3"
  },
  "language_info": {
   "codemirror_mode": {
    "name": "ipython",
    "version": 3
   },
   "file_extension": ".py",
   "mimetype": "text/x-python",
   "name": "python",
   "nbconvert_exporter": "python",
   "pygments_lexer": "ipython3",
   "version": "3.4.3"
  }
 },
 "nbformat": 4,
 "nbformat_minor": 0
}
