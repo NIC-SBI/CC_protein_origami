{
 "cells": [
  {
   "cell_type": "code",
   "execution_count": null,
   "metadata": {
    "collapsed": false
   },
   "outputs": [],
   "source": [
    "from __future__ import print_function, division, absolute_import\n",
    "%load_ext autoreload\n",
    "%autoreload 2"
   ]
  },
  {
   "cell_type": "code",
   "execution_count": null,
   "metadata": {
    "collapsed": false
   },
   "outputs": [],
   "source": [
    "import ppmod\n",
    "import ppmod.segment_assignment as sa\n",
    "import ppmod.topology as t"
   ]
  },
  {
   "cell_type": "code",
   "execution_count": null,
   "metadata": {
    "collapsed": false
   },
   "outputs": [],
   "source": [
    "#load ply file and convert it to edge notation\n",
    "edge_topology = t.convert_vface_to_efaces(t.load_vfaces(\"ply/01_tetrahedron.ply\"))\n",
    "#Explore all topologies\n",
    "tops = t.explore(edge_topology, True)\n",
    "#enumarate and name them\n",
    "tops = t.name_topologies_and_permutations(tops)\n",
    "#calculate the topological contact order\n",
    "df = t.calculate_TCO(tops)\n",
    "df.sort_values(by=[\"num_AP\",\"num_cross\",\"TCO\",\"stdTCO\",\"segments\" ])"
   ]
  },
  {
   "cell_type": "code",
   "execution_count": null,
   "metadata": {
    "collapsed": false
   },
   "outputs": [],
   "source": [
    "#We chose the the topology with the smallest TCO and stdTCO and only two antiparallel\n",
    "topology = t.standard(\"bDfABCADECFE\") #This is 1.10 or 1.1R"
   ]
  },
  {
   "cell_type": "code",
   "execution_count": null,
   "metadata": {
    "collapsed": false
   },
   "outputs": [],
   "source": [
    "#Assign the segments and linkers\n",
    "gui = sa.segment_assignment_gui(topology)"
   ]
  },
  {
   "cell_type": "code",
   "execution_count": null,
   "metadata": {
    "collapsed": false
   },
   "outputs": [],
   "source": [
    "#the assignment can be retrived using: \n",
    "seg_assignment_str = gui.result_text.value\n",
    "#When we first designed the tetrahedron there were less segments available. \n",
    "#For reproducibility we are using the previous assignment\n",
    "seg_assignment_str =\"\"\"\n",
    "A->APHshSN:APHshSN\n",
    "B->P3SN:P4SN\n",
    "C->BCRSN:BCRSN\n",
    "D->GCNshSN:GCNshSN\n",
    "E->P7SN:P8SN\n",
    "F->P5SN:P6SN\n",
    "\"\"\"\n",
    "model_name = \"TET12SN\"\n",
    "linker = \"SGPGS\"\n",
    "\n",
    "seg_assignment = sa.segment_assignments_to_dict(seg_assignment_str)\n",
    "real_segments = sa.do_assignment_replacements(topology, seg_assignment_str)\n",
    "\n",
    "#one can also manually edit the sequnce\n",
    "annotated_seq = sa.get_annotated_sequence(real_segments, 'segments.xlsx', N_tag=\"M\",C_tag=\"LEHHHHHHHH\")\n",
    "annotated_seq_edit = sa.text_edit_gui(annotated_seq, caption=\"-\".join(real_segments))"
   ]
  },
  {
   "cell_type": "code",
   "execution_count": null,
   "metadata": {
    "collapsed": false
   },
   "outputs": [],
   "source": [
    "#Now write everything to a self-contained config file! \n",
    "#Information about pairs and and 3D templates is need and is read from 'segments.xls' sheet 'pairs'.\n",
    "\n",
    "included_pairs = [\":\".join(s) for s in seg_assignment.values()]\n",
    "pairs_info = sa.get_included_pairs_info('segments.xlsx', sheetname='pairs', included_pairs=included_pairs)\n",
    "sa.write_make_config(model_name, annotated_seq_edit.value, pairs_info, out_name='make_config.py')"
   ]
  },
  {
   "cell_type": "markdown",
   "metadata": {},
   "source": [
    "# Now run the model building!\n",
    "\n",
    "\n",
    "The rest of the pipeline is handled via Snakemake (a workflow manager). There is a Snakemake file that can be customized.\n",
    "Sankemake takes care of dependencies and rerunning tasks and analysis. Make_config.py generates a JSON file with all details (that is less human readable). Next chimera generates a model of the protein. Modeller than bring the various segments together and refines the twist via homology modelling. All the alignment files are generated automatically.\n"
   ]
  },
  {
   "cell_type": "code",
   "execution_count": null,
   "metadata": {
    "collapsed": false
   },
   "outputs": [],
   "source": [
    "#this takes a bit less than an hour on a modern intel procesor. Use three parallel threads.\n",
    "!bash snakemake -j3"
   ]
  },
  {
   "cell_type": "code",
   "execution_count": null,
   "metadata": {
    "collapsed": true
   },
   "outputs": [],
   "source": [
    "#view the generated models in chimera\n",
    "!bash chimera */03-*.pdb"
   ]
  },
  {
   "cell_type": "code",
   "execution_count": null,
   "metadata": {
    "collapsed": false
   },
   "outputs": [],
   "source": [
    "#or directly in the notebook\n",
    "import mdtraj \n",
    "import mdtraj.html \n",
    "from glob import glob\n",
    "import ipywidgets as widgets\n",
    "from IPython.display import display\n",
    "\n",
    "files = glob(\"*/03-*.pdb\")\n",
    "models = mdtraj.load(files)\n",
    "\n",
    "def on_value_change(change):\n",
    "    w.frame=change['new']\n",
    "\n",
    "slider = widgets.FloatSlider(value=0, min=0, max=models.n_frames-1, step=1, description='Model:')\n",
    "slider.observe(on_value_change, names='value')\n",
    "    \n",
    "mdtraj.html.enable_notebook()\n",
    "\n",
    "\n",
    "display(slider)\n",
    "w = mdtraj.html.TrajectoryView(models, secondaryStructure=\"ribbon\")\n",
    "w"
   ]
  },
  {
   "cell_type": "code",
   "execution_count": null,
   "metadata": {
    "collapsed": true
   },
   "outputs": [],
   "source": []
  }
 ],
 "metadata": {
  "kernelspec": {
   "display_name": "Python 3",
   "language": "python",
   "name": "python3"
  },
  "language_info": {
   "codemirror_mode": {
    "name": "ipython",
    "version": 3
   },
   "file_extension": ".py",
   "mimetype": "text/x-python",
   "name": "python",
   "nbconvert_exporter": "python",
   "pygments_lexer": "ipython3",
   "version": "3.4.3"
  }
 },
 "nbformat": 4,
 "nbformat_minor": 0
}
