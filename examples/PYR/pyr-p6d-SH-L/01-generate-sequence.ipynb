{
 "cells": [
  {
   "cell_type": "code",
   "execution_count": 40,
   "metadata": {
    "collapsed": false
   },
   "outputs": [
    {
     "name": "stdout",
     "output_type": "stream",
     "text": [
      "The autoreload extension is already loaded. To reload it, use:\n",
      "  %reload_ext autoreload\n"
     ]
    }
   ],
   "source": [
    "\"\"\"Assemble a pyramid from segments\"\"\"\n",
    "\n",
    "from __future__ import print_function, division\n",
    "%load_ext autoreload\n",
    "%autoreload 2\n",
    "import ppmod.utils as u"
   ]
  },
  {
   "cell_type": "code",
   "execution_count": 42,
   "metadata": {
    "collapsed": false
   },
   "outputs": [],
   "source": [
    "#p6d\n",
    "vertex_topology = [1, 4, 3, 2, 5, 4, 3, 1, 2, 5, 1, 4, 5, 1, 2, 3, 1]"
   ]
  },
  {
   "cell_type": "code",
   "execution_count": 43,
   "metadata": {
    "collapsed": false
   },
   "outputs": [],
   "source": [
    "segments = u.vertex_to_segmet(vertex_topology)    "
   ]
  },
  {
   "cell_type": "code",
   "execution_count": 44,
   "metadata": {
    "collapsed": false
   },
   "outputs": [
    {
     "name": "stdout",
     "output_type": "stream",
     "text": [
      "a-b-c-d-e-b-f-g-d-h-a-E-h-g-C-f\n"
     ]
    }
   ],
   "source": [
    "seg_str = \"-\".join(segments)\n",
    "def insert_segments(segements_str, replacements):\n",
    "    \"\"\"given a string of segments (a-b-C...) preforms a replacement from a dictionary (\"a\":\"P7:P8\", etc).\n",
    "    Returns a string\"\"\"\n",
    "    pass #TODO...\n",
    "print(seg_str)"
   ]
  },
  {
   "cell_type": "code",
   "execution_count": 59,
   "metadata": {
    "collapsed": false
   },
   "outputs": [],
   "source": [
    "\n",
    "#real_segments = insert_segments( segment_topology, { a : \"P3:P4\"...}\n",
    "real_segments = \"P11SH-GCNH3-BCRmSH-P7SH-APHshE-GCNH3-P1SH-P3SH-P8SH-P5SH-P12SH-APHshE-P6SH-P4SH-BCRmSH-P2SH\"\n",
    "real_segments = real_segments.split('-')\n",
    "\n",
    "pre  =   \"M\\n\"\n",
    "linker = \"\\nRGDG\\n\"\n",
    "post = \"\\nLEHHHHHHHH\"\n",
    "\n",
    "\n",
    "#real_segments"
   ]
  },
  {
   "cell_type": "code",
   "execution_count": 60,
   "metadata": {
    "collapsed": false
   },
   "outputs": [],
   "source": [
    "from pprint import pprint as pp\n",
    "import pandas as pd\n",
    "\n",
    "#import the peptides from xls\n",
    "df = pd.read_excel(\"peptides.xlsx\").dropna()\n",
    "\n",
    "#cleanup whitespace\n",
    "df.PID=df.PID.str.strip()\n",
    "#make peptides dict\n",
    "peps = {}\n",
    "for n, pep in df.iterrows():\n",
    "    #not interested in alignment\n",
    "    peps[pep.PID] = pep.Sequence.replace('-', '').strip()\n",
    "#peps\n",
    "#peps['P8SH']"
   ]
  },
  {
   "cell_type": "code",
   "execution_count": 61,
   "metadata": {
    "collapsed": false
   },
   "outputs": [
    {
     "name": "stdout",
     "output_type": "stream",
     "text": [
      "M\n",
      "SPED ENQALEQ EIAQLEQ EIAALEQ KNAQLKY G|P11SH\n",
      "RGDG\n",
      "SPED RMKQLED KVEELER KNYHLEN EVERLKK EV|GCNH3\n",
      "RGDG\n",
      "DIEQ ELERAKQ SIEELER EVNQERS RMQYLQT RLS|BCRmSH\n",
      "RGDG\n",
      "SPED EIKELEW KNEELKR EIKELEE KNEELKR G|P7SH\n",
      "RGDG\n",
      "ELEELER ELQEIEE QLEQLQW KAQERKE KLEQLKE|APHshE\n",
      "RGDG\n",
      "SPED RMKQLED KVEELER KNYHLEN EVERLKK EV|GCNH3\n",
      "RGDG\n",
      "SPED EIQALEE ENAQLEQ ENAALEE EIAQLEY G|P1SH\n",
      "RGDG\n",
      "SPED EIKELEE EIKELEW KNEELKR KNEELKR G|P3SH\n",
      "RGDG\n",
      "SPED KIEELKR ENEELEW KIEELKR ENEELEK G|P8SH\n",
      "RGDG\n",
      "SPED ENEKLEE KIWELKR KNEELKR EIKELEE G|P5SH\n",
      "RGDG\n",
      "SPED KNAQLKE KIAALKE KIQQLKE ENQALEY G|P12SH\n",
      "RGDG\n",
      "ELEELER ELQEIEE QLEQLQW KAQERKE KLEQLKE|APHshE\n",
      "RGDG\n",
      "SPED KNEELKR EIKELEW ENEELER KIEELKR G|P6SH\n",
      "RGDG\n",
      "SPED KIEELKR KIEELKW ENEELER ENEELER G|P4SH\n",
      "RGDG\n",
      "DIEQ ELERAKQ SIEELER EVNQERS RMQYLQT RLS|BCRmSH\n",
      "RGDG\n",
      "SPED KIAQLKE KNAALKE KNQQLKE KIQALKY G|P2SH\n",
      "LEHHHHHHHH\n"
     ]
    }
   ],
   "source": [
    "segments_seq = [peps[s] +\"|\"+s for s in real_segments]\n",
    "entire_sequnce_struct = pre  + linker.join(segments_seq) + post\n",
    "print(entire_sequnce_struct)"
   ]
  },
  {
   "cell_type": "code",
   "execution_count": 62,
   "metadata": {
    "collapsed": false
   },
   "outputs": [
    {
     "name": "stdout",
     "output_type": "stream",
     "text": [
      "MSPEDENQALEQEIAQLEQEIAALEQKNAQLKYGRGDGSPEDRMKQLEDKVEELERKNYHLENEVERLKKEVRGDGDIEQELERAKQSIEELEREVNQERSRMQYLQTRLSRGDGSPEDEIKELEWKNEELKREIKELEEKNEELKRGRGDGELEELERELQEIEEQLEQLQWKAQERKEKLEQLKERGDGSPEDRMKQLEDKVEELERKNYHLENEVERLKKEVRGDGSPEDEIQALEEENAQLEQENAALEEEIAQLEYGRGDGSPEDEIKELEEEIKELEWKNEELKRKNEELKRGRGDGSPEDKIEELKRENEELEWKIEELKRENEELEKGRGDGSPEDENEKLEEKIWELKRKNEELKREIKELEEGRGDGSPEDKNAQLKEKIAALKEKIQQLKEENQALEYGRGDGELEELERELQEIEEQLEQLQWKAQERKEKLEQLKERGDGSPEDKNEELKREIKELEWENEELERKIEELKRGRGDGSPEDKIEELKRKIEELKWENEELERENEELERGRGDGDIEQELERAKQSIEELEREVNQERSRMQYLQTRLSRGDGSPEDKIAQLKEKNAALKEKNQQLKEKIQALKYGLEHHHHHHHH\n"
     ]
    }
   ],
   "source": [
    "segments_seq = [peps[s] for s in real_segments]\n",
    "entire_sequnce = pre  + linker.join(segments_seq) + post\n",
    "print(entire_sequnce.replace('\\n','').replace(' ',''))"
   ]
  },
  {
   "cell_type": "code",
   "execution_count": null,
   "metadata": {
    "collapsed": true
   },
   "outputs": [],
   "source": []
  }
 ],
 "metadata": {
  "kernelspec": {
   "display_name": "Python 2",
   "language": "python",
   "name": "python2"
  },
  "language_info": {
   "codemirror_mode": {
    "name": "ipython",
    "version": 2
   },
   "file_extension": ".py",
   "mimetype": "text/x-python",
   "name": "python",
   "nbconvert_exporter": "python",
   "pygments_lexer": "ipython2",
   "version": "2.7.10"
  }
 },
 "nbformat": 4,
 "nbformat_minor": 0
}
